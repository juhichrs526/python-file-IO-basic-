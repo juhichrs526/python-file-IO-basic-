{
 "cells": [
  {
   "cell_type": "code",
   "execution_count": 1,
   "id": "12c9ae96",
   "metadata": {},
   "outputs": [
    {
     "name": "stdout",
     "output_type": "stream",
     "text": [
      "Juhi  is  a  good  girl\n",
      "Juhi  is  very  smart  girl\n",
      "Juhi  has  good progromming  language\n",
      "\n"
     ]
    }
   ],
   "source": [
    "\"\"\"\n",
    "\"r\"-open file for reading -default\n",
    "\"w\"-open a filr for writing\n",
    "\"x\"-creates file if not exists\n",
    "\"a\"-add more content to a file\n",
    "\"t\"-text mode- default\n",
    "\"b\"-binary mode\n",
    "\"+\"-read and write\n",
    "\"\"\"\n",
    "j=open(\"juhi.txt\")\n",
    "content=j.read()\n",
    "print(content)\n",
    "j.close()"
   ]
  },
  {
   "cell_type": "code",
   "execution_count": 2,
   "id": "d80a3ff1",
   "metadata": {},
   "outputs": [
    {
     "name": "stdout",
     "output_type": "stream",
     "text": [
      "Juhi  is  a  good  girl\n",
      "Juhi  is  very  smart  girl\n",
      "Juhi  has  good progromming  language\n",
      "\n"
     ]
    }
   ],
   "source": [
    "j=open(\"juhi.txt\",\"r\")\n",
    "content=j.read()\n",
    "print(content)\n",
    "j.close()"
   ]
  },
  {
   "cell_type": "code",
   "execution_count": 3,
   "id": "3bacb9b3",
   "metadata": {},
   "outputs": [
    {
     "name": "stdout",
     "output_type": "stream",
     "text": [
      "b'Juhi  is  a  good  girl\\r\\nJuhi  is  very  smart  girl\\r\\nJuhi  has  good progromming  language\\r\\n'\n"
     ]
    }
   ],
   "source": [
    "j=open(\"juhi.txt\",\"rb\")\n",
    "content=j.read()\n",
    "print(content)\n",
    "j.close()"
   ]
  },
  {
   "cell_type": "code",
   "execution_count": 4,
   "id": "f6073ba6",
   "metadata": {},
   "outputs": [
    {
     "name": "stdout",
     "output_type": "stream",
     "text": [
      "Juhi  is  a  good  girl\n",
      "Juhi  is  very  smart  girl\n",
      "Juhi  has  good progromming  language\n",
      "\n"
     ]
    }
   ],
   "source": [
    "j=open(\"juhi.txt\",\"rt\")\n",
    "content=j.read()\n",
    "print(content)\n",
    "j.close()"
   ]
  },
  {
   "cell_type": "code",
   "execution_count": 5,
   "id": "3f69df10",
   "metadata": {},
   "outputs": [
    {
     "name": "stdout",
     "output_type": "stream",
     "text": [
      "b'Juh'\n"
     ]
    }
   ],
   "source": [
    "j=open(\"juhi.txt\",\"rb\")\n",
    "content=j.read(3)\n",
    "print(content)\n",
    "j.close()"
   ]
  },
  {
   "cell_type": "code",
   "execution_count": 6,
   "id": "cd5af9e9",
   "metadata": {},
   "outputs": [
    {
     "name": "stdout",
     "output_type": "stream",
     "text": [
      "b'Juhi  is  a  good  girl\\r\\n'b'Juhi  is  very  smart  girl\\r\\n'b'Juhi  has  good progromming  language\\r\\n'"
     ]
    }
   ],
   "source": [
    "j=open(\"juhi.txt\",\"rb\")\n",
    "for line in j:\n",
    "    print(line,end=\"\")"
   ]
  },
  {
   "cell_type": "code",
   "execution_count": 12,
   "id": "4cb7d657",
   "metadata": {},
   "outputs": [
    {
     "name": "stdout",
     "output_type": "stream",
     "text": [
      "b'Juhi  is  a  good  girl\\r\\n'\n"
     ]
    }
   ],
   "source": [
    "j=open(\"juhi.txt\",\"rb\")\n",
    "print(j.readline())"
   ]
  },
  {
   "cell_type": "code",
   "execution_count": 13,
   "id": "cb3a88ee",
   "metadata": {},
   "outputs": [
    {
     "name": "stdout",
     "output_type": "stream",
     "text": [
      "b'Juhi  is  a  good  girl\\r\\n'\n",
      "b'Juhi  is  very  smart  girl\\r\\n'\n",
      "b'Juhi  has  good progromming  language\\r\\n'\n"
     ]
    }
   ],
   "source": [
    "j=open(\"juhi.txt\",\"rb\")\n",
    "print(j.readline())\n",
    "print(j.readline())\n",
    "print(j.readline())"
   ]
  },
  {
   "cell_type": "code",
   "execution_count": 15,
   "id": "81e65213",
   "metadata": {},
   "outputs": [
    {
     "name": "stdout",
     "output_type": "stream",
     "text": [
      "[b'Juhi  is  a  good  girl\\r\\n', b'Juhi  is  very  smart  girl\\r\\n', b'Juhi  has  good progromming  language\\r\\n']\n"
     ]
    }
   ],
   "source": [
    "j=open(\"juhi.txt\",\"rb\")\n",
    "print(j.readlines())\n"
   ]
  },
  {
   "cell_type": "code",
   "execution_count": null,
   "id": "217d40ad",
   "metadata": {},
   "outputs": [],
   "source": []
  }
 ],
 "metadata": {
  "kernelspec": {
   "display_name": "Python 3",
   "language": "python",
   "name": "python3"
  },
  "language_info": {
   "codemirror_mode": {
    "name": "ipython",
    "version": 3
   },
   "file_extension": ".py",
   "mimetype": "text/x-python",
   "name": "python",
   "nbconvert_exporter": "python",
   "pygments_lexer": "ipython3",
   "version": "3.8.8"
  }
 },
 "nbformat": 4,
 "nbformat_minor": 5
}
